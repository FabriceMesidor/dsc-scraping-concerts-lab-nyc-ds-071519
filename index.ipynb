{
 "cells": [
  {
   "cell_type": "markdown",
   "metadata": {},
   "source": [
    "# Scraping Concerts - Lab\n",
    "\n",
    "## Introduction\n",
    "\n",
    "Now that you've seen how to scrape a simple website, it's time to again practice those skills on a full-fledged site!\n",
    "In this lab, you'll practice your scraping skills on a music website: https://www.residentadvisor.net.\n",
    "## Objectives\n",
    "\n",
    "You will be able to:\n",
    "* Scrape events from a website\n",
    "* Follow links to those events to retrieve further information\n",
    "* Clean and store scraped data"
   ]
  },
  {
   "cell_type": "markdown",
   "metadata": {},
   "source": [
    "## View the Website\n",
    "\n",
    "For this lab, you'll be scraping the https://www.residentadvisor.net website. Start by navigating to the events page [here](https://www.residentadvisor.net/events) in your browser.\n",
    "\n",
    "<img src=\"images/ra.png\">"
   ]
  },
  {
   "cell_type": "code",
   "execution_count": null,
   "metadata": {},
   "outputs": [],
   "source": [
    "#Load the https://www.residentadvisor.net/events page in your browser."
   ]
  },
  {
   "cell_type": "markdown",
   "metadata": {},
   "source": [
    "## Open the Inspect Element Feature\n",
    "\n",
    "Next, open the inspect element feature from your web browser in order to preview the underlying HTML associated with the page."
   ]
  },
  {
   "cell_type": "code",
   "execution_count": null,
   "metadata": {},
   "outputs": [],
   "source": [
    "#Open the inspect element feature in your browser"
   ]
  },
  {
   "cell_type": "markdown",
   "metadata": {},
   "source": [
    "## Write a Function to Scrape all of the Events on the Given Page Events Page\n",
    "\n",
    "The function should return a Pandas DataFrame with columns for the Event_Name, Venue, Event_Date and Number_of_Attendees."
   ]
  },
  {
   "cell_type": "code",
   "execution_count": 1,
   "metadata": {},
   "outputs": [],
   "source": [
    "import re\n",
    "import numpy as np\n",
    "import pandas as pd\n",
    "import requests\n",
    "from bs4 import BeautifulSoup\n",
    "import time"
   ]
  },
  {
   "cell_type": "code",
   "execution_count": 2,
   "metadata": {},
   "outputs": [],
   "source": [
    "#getting the data\n",
    "events = requests.get(\"https://www.residentadvisor.net/events/us/newyork\")\n",
    "events_soup = BeautifulSoup(events.content, 'html.parser')"
   ]
  },
  {
   "cell_type": "code",
   "execution_count": 22,
   "metadata": {},
   "outputs": [],
   "source": [
    "event_listings = events_soup.find('div', id=\"event-listing\")\n",
    "fl col4"
   ]
  },
  {
   "cell_type": "code",
   "execution_count": 23,
   "metadata": {},
   "outputs": [
    {
     "name": "stdout",
     "output_type": "stream",
     "text": [
      "<div class=\"fl col2\" style=\"padding-top: 88px;\">\n",
      "<div class=\"pr8 sticky\">\n",
      "<section id=\"calendar\">\n",
      "<div class=\"h-align\">\n",
      "<h1 class=\"heading\">Calendar</h1>\n",
      "</div>\n",
      "<div id=\"calendar-inner\">\n",
      "<select id=\"ddlCalendarMonth\" name=\"ctl00$ctl00$cphContent$_contentmain$ucCalendar$ddlCalendarMonth\" style=\"width:104px;\">\n",
      "<option value=\"12\">December</option>\n",
      "<option value=\"11\">November</option>\n",
      "<option value=\"10\">October</option>\n",
      "<option value=\"9\">September</option>\n",
      "<option value=\"8\">August</option>\n",
      "<option selected=\"selected\" value=\"7\">July</option>\n",
      "<option value=\"6\">June</option>\n",
      "<option value=\"5\">May</option>\n",
      "<option value=\"4\">April</option>\n",
      "<option value=\"3\">March</option>\n",
      "<option value=\"2\">February</option>\n",
      "<option value=\"1\">January</option>\n",
      "</select>\n",
      "<select id=\"ddlCalendarYear\" name=\"ctl00$ctl00$cphContent$_contentmain$ucCalendar$ddlCalendarYear\">\n",
      "<option value=\"2020\">2020</option>\n",
      "<option selected=\"selected\" value=\"2019\">2019</option>\n",
      "<option value=\"2018\">2018</option>\n",
      "<option value=\"2017\">2017</option>\n",
      "<option value=\"2016\">2016</option>\n",
      "<option value=\"2015\">2015</option>\n",
      "<option value=\"2014\">2014</option>\n",
      "<option value=\"2013\">2013</option>\n",
      "<option value=\"2012\">2012</option>\n",
      "<option value=\"2011\">2011</option>\n",
      "<option value=\"2010\">2010</option>\n",
      "<option value=\"2009\">2009</option>\n",
      "<option value=\"2008\">2008</option>\n",
      "<option value=\"2007\">2007</option>\n",
      "<option value=\"2006\">2006</option>\n",
      "<option value=\"2005\">2005</option>\n",
      "<option value=\"2004\">2004</option>\n",
      "<option value=\"2003\">2003</option>\n",
      "<option value=\"2002\">2002</option>\n",
      "<option value=\"2001\">2001</option>\n",
      "<option value=\"2000\">2000</option>\n",
      "<option value=\"1999\">1999</option>\n",
      "<option value=\"1998\">1998</option>\n",
      "</select>\n",
      "<select id=\"ddlCalendarType\" name=\"ctl00$ctl00$cphContent$_contentmain$ucCalendar$ddlCalendarType\" style=\"width:104px;\">\n",
      "<option value=\"day\">By day</option>\n",
      "<option selected=\"selected\" value=\"week\">By week</option>\n",
      "<option value=\"month\">By month</option>\n",
      "</select>\n",
      "<input id=\"hfCalendarDayOfWeek\" name=\"ctl00$ctl00$cphContent$_contentmain$ucCalendar$hfCalendarDayOfWeek\" type=\"hidden\" value=\"25\"/>\n",
      "<table><tr><th>Sun</th><th>Mon</th><th>Tue</th><th>Wed</th><th>Thu</th><th>Fri</th><th>Sat</th></tr><tr><td><a class=\"day-off\" href=\"/events/us/newyork/week/2019-06-30\">30</a></td><td><a href=\"/events/us/newyork/week/2019-07-01\">1</a></td><td><a href=\"/events/us/newyork/week/2019-07-02\">2</a></td><td><a href=\"/events/us/newyork/week/2019-07-03\">3</a></td><td><a href=\"/events/us/newyork/week/2019-07-04\">4</a></td><td><a href=\"/events/us/newyork/week/2019-07-05\">5</a></td><td><a href=\"/events/us/newyork/week/2019-07-06\">6</a></td></tr><tr><td><a href=\"/events/us/newyork/week/2019-07-07\">7</a></td><td><a href=\"/events/us/newyork/week/2019-07-08\">8</a></td><td><a href=\"/events/us/newyork/week/2019-07-09\">9</a></td><td><a href=\"/events/us/newyork/week/2019-07-10\">10</a></td><td><a href=\"/events/us/newyork/week/2019-07-11\">11</a></td><td><a href=\"/events/us/newyork/week/2019-07-12\">12</a></td><td><a href=\"/events/us/newyork/week/2019-07-13\">13</a></td></tr><tr><td><a href=\"/events/us/newyork/week/2019-07-14\">14</a></td><td><a href=\"/events/us/newyork/week/2019-07-15\">15</a></td><td><a href=\"/events/us/newyork/week/2019-07-16\">16</a></td><td><a href=\"/events/us/newyork/week/2019-07-17\">17</a></td><td><a href=\"/events/us/newyork/week/2019-07-18\">18</a></td><td><a href=\"/events/us/newyork/week/2019-07-19\">19</a></td><td><a href=\"/events/us/newyork/week/2019-07-20\">20</a></td></tr><tr><td><a href=\"/events/us/newyork/week/2019-07-21\">21</a></td><td><a href=\"/events/us/newyork/week/2019-07-22\">22</a></td><td><a href=\"/events/us/newyork/week/2019-07-23\">23</a></td><td><a href=\"/events/us/newyork/week/2019-07-24\">24</a></td><td><span class=\"day-current\">25</span></td><td><a href=\"/events/us/newyork/week/2019-07-26\">26</a></td><td><a href=\"/events/us/newyork/week/2019-07-27\">27</a></td></tr><tr><td><a href=\"/events/us/newyork/week/2019-07-28\">28</a></td><td><a href=\"/events/us/newyork/week/2019-07-29\">29</a></td><td><a href=\"/events/us/newyork/week/2019-07-30\">30</a></td><td><a href=\"/events/us/newyork/week/2019-07-31\">31</a></td><td><a class=\"day-off\" href=\"/events/us/newyork/week/2019-08-01\">1</a></td><td><a class=\"day-off\" href=\"/events/us/newyork/week/2019-08-02\">2</a></td><td><a class=\"day-off\" href=\"/events/us/newyork/week/2019-08-03\">3</a></td></tr></table>\n",
      "</div>\n",
      "<script type=\"text/javascript\">\r\n",
      "\t\t$(\"#ddlCalendarMonth, #ddlCalendarYear, #ddlCalendarType\").change(function () {\r\n",
      "            var aSearch = location.search.indexOf(\"&\") > 0\r\n",
      "                ? location.search.split('&')\r\n",
      "                : \"\";\r\n",
      "\r\n",
      "\t\t\tvar sQueryString;\r\n",
      "\r\n",
      "            var month = $('#ddlCalendarMonth').val().length === 2\r\n",
      "                ? $('#ddlCalendarMonth').val()\r\n",
      "                : \"0\" + $('#ddlCalendarMonth').val();\r\n",
      "\r\n",
      "            var day = $('#hfCalendarDayOfWeek').val().length === 2\r\n",
      "                ? $('#hfCalendarDayOfWeek').val()\r\n",
      "                : \"0\" + $('#hfCalendarDayOfWeek').val();\r\n",
      "\r\n",
      "            var area = $('#liArea span').text().replace(/[^A-Z0-9]/ig, '').toLowerCase() === 'all'\r\n",
      "                ? \"\"\r\n",
      "                : $('#liArea span').text().replace(/[^A-Z0-9]/ig, '').toLowerCase() + \"/\";\r\n",
      "\r\n",
      "            var country = area === ''\r\n",
      "                ? $('#country-name').val()\r\n",
      "                : $('#liCountry span').text()\r\n",
      "\r\n",
      "\t\t\tsQueryString = \"/events/\"\r\n",
      "                + country.replace(/[^A-Z0-9]/ig, '').toLowerCase() + \"/\"\r\n",
      "                + area\r\n",
      "                + $('#ddlCalendarType').val() + \"/\"\r\n",
      "\t\t\t\t+ $('#ddlCalendarYear').val() + \"-\"\r\n",
      "                + month + \"-\"\r\n",
      "\t\t\t\t+ day;\r\n",
      "\r\n",
      "\t\t\tlocation.href = sQueryString;\r\n",
      "\t\t});\r\n",
      "\t</script>\n",
      "</section>\n",
      "<div class=\"banner\">\n",
      "<div id=\"pnlMPU\">\n",
      "<div class=\"ad\" id=\"div-gpt-ad-1452773484957-7\" style=\"width: 300px; min-height: 250px; padding-bottom: 10px;\"></div>\n",
      "</div>\n",
      "</div>\n",
      "</div>\n",
      "</div>\n"
     ]
    }
   ],
   "source": [
    "print(event_listings.nextSibling.nextSibling)"
   ]
  },
  {
   "cell_type": "code",
   "execution_count": null,
   "metadata": {},
   "outputs": [],
   "source": [
    "def scrape_events(events_page_url):\n",
    "    #Your code here\n",
    "    df.columns = [\"Event_Name\", \"Venue\", \"Event_Date\", \"Number_of_Attendees\"]\n",
    "    return df"
   ]
  },
  {
   "cell_type": "markdown",
   "metadata": {},
   "source": [
    "## Write a Function to Retrieve the URL for the Next Page"
   ]
  },
  {
   "cell_type": "code",
   "execution_count": null,
   "metadata": {},
   "outputs": [],
   "source": [
    "def next_page(url):\n",
    "    #Your code here\n",
    "    return next_page_url"
   ]
  },
  {
   "cell_type": "markdown",
   "metadata": {},
   "source": [
    "## Scrape the Next 1000 Events for Your Area\n",
    "\n",
    "Display the data sorted by the number of attendees. If there is a tie for the number attending, sort by event date."
   ]
  },
  {
   "cell_type": "code",
   "execution_count": null,
   "metadata": {},
   "outputs": [],
   "source": [
    "#Your code here"
   ]
  },
  {
   "cell_type": "markdown",
   "metadata": {},
   "source": [
    "## Summary \n",
    "\n",
    "Congratulations! In this lab, you successfully scraped a website for concert event information!"
   ]
  }
 ],
 "metadata": {
  "kernelspec": {
   "display_name": "Python 3",
   "language": "python",
   "name": "python3"
  },
  "language_info": {
   "codemirror_mode": {
    "name": "ipython",
    "version": 3
   },
   "file_extension": ".py",
   "mimetype": "text/x-python",
   "name": "python",
   "nbconvert_exporter": "python",
   "pygments_lexer": "ipython3",
   "version": "3.6.6"
  }
 },
 "nbformat": 4,
 "nbformat_minor": 2
}
